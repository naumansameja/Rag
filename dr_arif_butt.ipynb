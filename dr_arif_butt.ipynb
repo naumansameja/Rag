{
 "cells": [
  {
   "cell_type": "code",
   "execution_count": 1,
   "metadata": {},
   "outputs": [],
   "source": [
    "import os\n",
    "from dotenv import load_dotenv\n",
    "\n",
    "load_dotenv()\n",
    "\n",
    "OPENAI_API_KEY = os.getenv(\"OPENAI_KEY\")\n",
    "os.environ['PINECONE_API_KEY'] = \"51fdde24-a23e-4bff-a3d2-27e7f51249a1\"\n",
    "\n"
   ]
  },
  {
   "cell_type": "code",
   "execution_count": 2,
   "metadata": {},
   "outputs": [],
   "source": [
    "from langchain_openai.chat_models import ChatOpenAI\n",
    "\n",
    "model = ChatOpenAI(openai_api_key=OPENAI_API_KEY, model=\"gpt-3.5-turbo\")"
   ]
  },
  {
   "cell_type": "code",
   "execution_count": 3,
   "metadata": {},
   "outputs": [
    {
     "data": {
      "text/plain": [
       "'The Los Angeles Dodgers won the World Series during the COVID-19 pandemic in 2020.'"
      ]
     },
     "execution_count": 3,
     "metadata": {},
     "output_type": "execute_result"
    }
   ],
   "source": [
    "from langchain_core.output_parsers import StrOutputParser\n",
    "\n",
    "parser = StrOutputParser()\n",
    "\n",
    "chain = model | parser\n",
    "chain.invoke(\"What MLB team won the World Series during the COVID-19 pandemic?\")"
   ]
  },
  {
   "cell_type": "code",
   "execution_count": 4,
   "metadata": {},
   "outputs": [],
   "source": [
    "from langchain.prompts import ChatPromptTemplate\n",
    "\n",
    "template = \"\"\"\n",
    "Answer the question based on the context below. If you can't \n",
    "answer the question, reply \"I don't know\".\n",
    "\n",
    "Context: {context}\n",
    "\n",
    "Question: {question}\n",
    "\"\"\"\n",
    "\n",
    "prompt = ChatPromptTemplate.from_template(template)\n"
   ]
  },
  {
   "cell_type": "code",
   "execution_count": 5,
   "metadata": {},
   "outputs": [
    {
     "data": {
      "text/plain": [
       "'Susana'"
      ]
     },
     "execution_count": 5,
     "metadata": {},
     "output_type": "execute_result"
    }
   ],
   "source": [
    "chain = prompt | model | parser\n",
    "chain.invoke({\n",
    "    \"context\": \"Mary's sister is Susana\",\n",
    "    \"question\": \"Who is Mary's sister?\"\n",
    "})"
   ]
  },
  {
   "cell_type": "code",
   "execution_count": 6,
   "metadata": {},
   "outputs": [
    {
     "name": "stdout",
     "output_type": "stream",
     "text": [
      "Loaded 5 documents.\n",
      "Source: dr_arif_butt_1.pdf\n",
      "Content Preview: Dr. Muhammad Arif Butt is an Assistant Professor at the Department of Data Science,\n",
      "University of the Punjab (PU), Lahore, Pakistan. He received his MSc and MPhil\n",
      "degrees both with a Gold Medal from PUCIT, University of the Punjab. Dr. Butt also\n",
      "earned his Ph.D. in Computer Science from the same University. His research focuses\n",
      "on applying fuzzy inference models in operating, embedded, and cloud-based\n",
      "systems/services, where decision making is involved under imprecise and vague\n",
      "parameters.\n",
      "His t...\n",
      "\n",
      "Source: dr_arif_butt_courses.pdf\n",
      "Content Preview: Dr arif butt teaches machine learning, natural language processing, web scraping for data\n",
      "scientists, data visualization with matplotlib and seaborn, pandas for data scientists, numpy for\n",
      "data scientists, basic python programming, descriptive and inferential statistics for data\n",
      "scientists, linear algebra for data scientists, tools and techniques for data scientists, computer\n",
      "organization and assembly language, system programming with linux, inter-networking with arif\n",
      "butt, c-refresher with arif ...\n",
      "\n",
      "Source: dr_arif_butt_current.pdf\n",
      "Content Preview: Dr Arif butt currently lives in Lahore.The car he drives is kia sportage.The color of his car is red.\n",
      "His qualification is M.Phil,P.hD(Pb).\n",
      "PhoneNumber: 92-42-99210969\n",
      "E-mailAddress: arif@pucit.edu.pk\n",
      "...\n",
      "\n",
      "Source: dr_arif_butt_publications.pdf\n",
      "Content Preview: Research & Publications Books A. Butt (2010), Taxonomy of IDS: Intrusion Detection using\n",
      "System Call Sequence, VDM Verlag Dr. Müller, ISBN: 3639294092 Journal Articles 22. S. A.\n",
      "Khan, M. Abdullah, W. Iqbal, M. A. Butt, “Efficient Job Placement using Two-way Offloading\n",
      "Technique over Fog-Cloud Architectures”, Cluster Computing, 2022, Cluster Computing doi:\n",
      "10.1007/s10586-022-03750-9 (ISSN 1386-7857, HEC W Category) 21. S. A. Khan, M.\n",
      "Abdullah, W. Iqbal, M. A. Butt, F. Bukhari and S. -U. Hassan, \"...\n",
      "\n",
      "Source: dr_arif_butt_resume.pdf\n",
      "Content Preview: Dr. Muhammad Arif Butt Assistant Professor, Department of Data Science, University of the\n",
      "Punjab, Quaid-i-Azam (New) Campus, Lahore, Pakistan. Website: http://www.arifbutt.me Email:\n",
      "arif@pucit.edu.pk, arifpucit@gmail.com YouTube Channel:\n",
      "https://www.youtube.com/c/LearnWithArif ORCID ID: 0000-0002-7045-7618 Office Telephone:\n",
      "+92-(0)42-111-923-923 Extension: 133 Cell. Phone: +92-(0)321-4456454 (Updated: Dec 01,\n",
      "2023) Summary - Dr. Muhammad Arif Butt is an Assistant Professor at University of the P...\n",
      "\n"
     ]
    }
   ],
   "source": [
    "import os\n",
    "import pdfplumber\n",
    "from langchain.schema import Document\n",
    "\n",
    "def load_text_from_pdfs(pdf_paths):\n",
    "    \"\"\"Extract text from multiple PDF files and load as LangChain documents.\"\"\"\n",
    "    documents = []\n",
    "    for pdf_path in pdf_paths:\n",
    "        with pdfplumber.open(pdf_path) as pdf:\n",
    "            text = \"\"\n",
    "            for page in pdf.pages:\n",
    "                page_text = page.extract_text()\n",
    "                if page_text:\n",
    "                    text += page_text + \"\\n\"  # Append each page's text with a newline\n",
    "            # Create a document for each PDF with all pages concatenated\n",
    "            documents.append(Document(page_content=text, metadata={\"source\": pdf_path}))\n",
    "    return documents\n",
    "\n",
    "# List of PDF filenames in the same directory as the notebook\n",
    "pdf_paths = [\"dr_arif_butt_1.pdf\", \"dr_arif_butt_courses.pdf\", \"dr_arif_butt_current.pdf\", \"dr_arif_butt_publications.pdf\", \"dr_arif_butt_resume.pdf\"]\n",
    "\n",
    "# Load the documents from the PDF files\n",
    "text_documents = load_text_from_pdfs(pdf_paths)\n",
    "\n",
    "# Display the loaded documents for verification\n",
    "print(f\"Loaded {len(text_documents)} documents.\")\n",
    "for doc in text_documents:\n",
    "    print(f\"Source: {doc.metadata['source']}\")\n",
    "    print(f\"Content Preview: {doc.page_content[:500]}...\\n\")  # Show the first 500 characters\n"
   ]
  },
  {
   "cell_type": "code",
   "execution_count": 7,
   "metadata": {},
   "outputs": [
    {
     "name": "stdout",
     "output_type": "stream",
     "text": [
      "Number of chunks created: 236\n",
      "Chunk 1:\n",
      "Dr. Muhammad Arif Butt is an Assistant Professor at the Department of Data Science,\n",
      "--------------------------------------------------------------------------------\n",
      "Chunk 2:\n",
      "University of the Punjab (PU), Lahore, Pakistan. He received his MSc and MPhil\n",
      "--------------------------------------------------------------------------------\n",
      "Chunk 3:\n",
      "degrees both with a Gold Medal from PUCIT, University of the Punjab. Dr. Butt also\n",
      "--------------------------------------------------------------------------------\n",
      "Chunk 4:\n",
      "earned his Ph.D. in Computer Science from the same University. His research focuses\n",
      "--------------------------------------------------------------------------------\n",
      "Chunk 5:\n",
      "on applying fuzzy inference models in operating, embedded, and cloud-based\n",
      "--------------------------------------------------------------------------------\n"
     ]
    }
   ],
   "source": [
    "from langchain.text_splitter import RecursiveCharacterTextSplitter\n",
    "\n",
    "# Initialize the text splitter\n",
    "text_splitter = RecursiveCharacterTextSplitter(chunk_size=100, chunk_overlap=20)\n",
    "\n",
    "# Split the loaded documents into smaller chunks\n",
    "split_texts = text_splitter.split_documents(text_documents)\n",
    "\n",
    "# Display the first 5 chunks for verification\n",
    "print(f\"Number of chunks created: {len(split_texts)}\")\n",
    "for i, chunk in enumerate(split_texts[:5]):\n",
    "    print(f\"Chunk {i + 1}:\")\n",
    "    print(chunk.page_content)\n",
    "    print(\"-\" * 80)\n"
   ]
  },
  {
   "cell_type": "code",
   "execution_count": 8,
   "metadata": {},
   "outputs": [
    {
     "name": "stdout",
     "output_type": "stream",
     "text": [
      "Embedding length: 1536\n",
      "First 10 values of the embedded query: [-0.0054530249908566475, -0.004338966216892004, -0.017024751752614975, 0.0009045261540450156, 0.007919130846858025, 0.025937221944332123, -0.03189726546406746, 0.00019896987942047417, -0.032614678144454956, -0.006398078054189682]\n"
     ]
    }
   ],
   "source": [
    "from langchain_openai.embeddings import OpenAIEmbeddings\n",
    "\n",
    "# Initialize the OpenAI embeddings model with your API key\n",
    "embeddings = OpenAIEmbeddings(api_key=OPENAI_API_KEY)\n",
    "\n",
    "# Sample query to be embedded\n",
    "sample_query = \"Which course does Dr. Arif Butt teach?\"\n",
    "\n",
    "# Generate the embedding for the sample query\n",
    "embedded_query = embeddings.embed_query(sample_query)\n",
    "\n",
    "# Display the embedding length and the first few values\n",
    "print(f\"Embedding length: {len(embedded_query)}\")\n",
    "print(\"First 10 values of the embedded query:\", embedded_query[:10])\n"
   ]
  },
  {
   "cell_type": "code",
   "execution_count": 9,
   "metadata": {},
   "outputs": [],
   "source": [
    "sentence1 = embeddings.embed_query('Dr. Arif butt teaches machine learning and information security')\n",
    "sentence2 = embeddings.embed_query('Dr. Arif butt drives a red kia sportage')\n"
   ]
  },
  {
   "cell_type": "code",
   "execution_count": 10,
   "metadata": {},
   "outputs": [
    {
     "data": {
      "text/plain": [
       "(0.9134719464873107, 0.8521212634683148)"
      ]
     },
     "execution_count": 10,
     "metadata": {},
     "output_type": "execute_result"
    }
   ],
   "source": [
    "from sklearn.metrics.pairwise import cosine_similarity\n",
    "\n",
    "query_sentence1_similarity = cosine_similarity([embedded_query], [sentence1])[0][0]\n",
    "query_sentence2_similarity = cosine_similarity([embedded_query], [sentence2])[0][0]\n",
    "\n",
    "query_sentence1_similarity, query_sentence2_similarity"
   ]
  },
  {
   "cell_type": "code",
   "execution_count": 11,
   "metadata": {},
   "outputs": [
    {
     "name": "stderr",
     "output_type": "stream",
     "text": [
      "/home/nauman/myrag/.venv/lib/python3.12/site-packages/pinecone/data/index.py:1: TqdmWarning: IProgress not found. Please update jupyter and ipywidgets. See https://ipywidgets.readthedocs.io/en/stable/user_install.html\n",
      "  from tqdm.autonotebook import tqdm\n"
     ]
    }
   ],
   "source": [
    "from langchain_pinecone import PineconeVectorStore\n",
    "\n",
    "index_name = \"dr-arif-butt\"\n",
    "\n",
    "pinecone = PineconeVectorStore.from_documents(\n",
    "    split_texts, embeddings, index_name=index_name\n",
    ")"
   ]
  },
  {
   "cell_type": "code",
   "execution_count": 12,
   "metadata": {},
   "outputs": [
    {
     "data": {
      "text/plain": [
       "[]"
      ]
     },
     "execution_count": 12,
     "metadata": {},
     "output_type": "execute_result"
    }
   ],
   "source": [
    "pinecone.similarity_search(\"What does dr arif butt teach?\")[:3]"
   ]
  },
  {
   "cell_type": "code",
   "execution_count": 13,
   "metadata": {},
   "outputs": [],
   "source": [
    "from langchain_core.runnables import RunnableParallel, RunnablePassthrough"
   ]
  },
  {
   "cell_type": "code",
   "execution_count": 15,
   "metadata": {},
   "outputs": [
    {
     "data": {
      "text/plain": [
       "\"The color of Dr. Arif Butt's car is red.\""
      ]
     },
     "execution_count": 15,
     "metadata": {},
     "output_type": "execute_result"
    }
   ],
   "source": [
    "chain = (\n",
    "    {\"context\": pinecone.as_retriever(), \"question\": RunnablePassthrough()}\n",
    "    | prompt\n",
    "    | model\n",
    "    | parser\n",
    ")\n",
    "\n",
    "chain.invoke(\"What the color of the car of dr arif butt?\")"
   ]
  },
  {
   "cell_type": "code",
   "execution_count": 16,
   "metadata": {},
   "outputs": [
    {
     "data": {
      "text/plain": [
       "'Dr. Arif Butt drives a Kia Sportage.'"
      ]
     },
     "execution_count": 16,
     "metadata": {},
     "output_type": "execute_result"
    }
   ],
   "source": [
    "chain.invoke('which car does he have?')"
   ]
  },
  {
   "cell_type": "code",
   "execution_count": 17,
   "metadata": {},
   "outputs": [
    {
     "data": {
      "text/plain": [
       "'Dr. Arif Butt currently lives in Lahore.'"
      ]
     },
     "execution_count": 17,
     "metadata": {},
     "output_type": "execute_result"
    }
   ],
   "source": [
    "chain.invoke('where does he live')"
   ]
  },
  {
   "cell_type": "code",
   "execution_count": 18,
   "metadata": {},
   "outputs": [
    {
     "data": {
      "text/plain": [
       "'Based on the context provided, his current profession is not explicitly mentioned.'"
      ]
     },
     "execution_count": 18,
     "metadata": {},
     "output_type": "execute_result"
    }
   ],
   "source": [
    "chain.invoke('what is his current profession?')"
   ]
  },
  {
   "cell_type": "code",
   "execution_count": 19,
   "metadata": {},
   "outputs": [
    {
     "data": {
      "text/plain": [
       "'His management and teaching span since 2008.'"
      ]
     },
     "execution_count": 19,
     "metadata": {},
     "output_type": "execute_result"
    }
   ],
   "source": [
    "chain.invoke('what is his management and teaching span?')"
   ]
  },
  {
   "cell_type": "code",
   "execution_count": 20,
   "metadata": {},
   "outputs": [
    {
     "data": {
      "text/plain": [
       "'Some of his publications include:\\n1. \"1661-8289, vol. 7, no. 3, pp. 367-378, 2013 (I.F. 0.76, HEC W Category)\"\\n2. \"SpringerPlus/SpringerOpen, vol.5, no. 1, pp. 1-17, 2016 (IF 1.130, HEC W Category)\"'"
      ]
     },
     "execution_count": 20,
     "metadata": {},
     "output_type": "execute_result"
    }
   ],
   "source": [
    "chain.invoke('please some of his publications')"
   ]
  },
  {
   "cell_type": "code",
   "execution_count": 21,
   "metadata": {},
   "outputs": [
    {
     "data": {
      "text/plain": [
       "'His qualifications are M.Phil and Ph.D.'"
      ]
     },
     "execution_count": 21,
     "metadata": {},
     "output_type": "execute_result"
    }
   ],
   "source": [
    "chain.invoke('what are his qualifications')"
   ]
  },
  {
   "cell_type": "code",
   "execution_count": 22,
   "metadata": {},
   "outputs": [
    {
     "data": {
      "text/plain": [
       "'His designation at the University of Punjab is Professor.'"
      ]
     },
     "execution_count": 22,
     "metadata": {},
     "output_type": "execute_result"
    }
   ],
   "source": [
    "chain.invoke('what is his designation in university of punjab')"
   ]
  }
 ],
 "metadata": {
  "kernelspec": {
   "display_name": ".venv",
   "language": "python",
   "name": "python3"
  },
  "language_info": {
   "codemirror_mode": {
    "name": "ipython",
    "version": 3
   },
   "file_extension": ".py",
   "mimetype": "text/x-python",
   "name": "python",
   "nbconvert_exporter": "python",
   "pygments_lexer": "ipython3",
   "version": "3.12.3"
  }
 },
 "nbformat": 4,
 "nbformat_minor": 2
}
