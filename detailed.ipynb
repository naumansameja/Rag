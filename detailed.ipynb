{
 "cells": [
  {
   "cell_type": "code",
   "execution_count": 2,
   "metadata": {},
   "outputs": [
    {
     "name": "stdout",
     "output_type": "stream",
     "text": [
      "Query Result: The color of the car of Dr. Arif Butt is red.\n",
      "\n",
      "Retrieved Documents:\n",
      "page_content='Dr Arif butt currently lives in Lahore.The car he drives is kia sportage.The color of his car is' metadata={'source': 'dr_arif_butt_current.pdf'}\n",
      "page_content='color of his car is red.' metadata={'source': 'dr_arif_butt_current.pdf'}\n",
      "page_content='Dr. Muhammad Arif Butt is an Assistant Professor at the Department of Data Science,' metadata={'source': 'dr_arif_butt_1.pdf'}\n",
      "page_content='2023) Summary - Dr. Muhammad Arif Butt is an Assistant Professor at University of the Punjab,' metadata={'source': 'dr_arif_butt_resume.pdf'}\n"
     ]
    }
   ],
   "source": [
    "import os\n",
    "from dotenv import load_dotenv\n",
    "from langchain_openai.chat_models import ChatOpenAI\n",
    "from langchain_openai.embeddings import OpenAIEmbeddings\n",
    "from langchain_pinecone import PineconeVectorStore\n",
    "from langchain.prompts import ChatPromptTemplate\n",
    "from langchain_core.runnables import RunnablePassthrough\n",
    "from langchain_core.output_parsers import StrOutputParser\n",
    "\n",
    "# Load environment variables\n",
    "load_dotenv()\n",
    "\n",
    "OPENAI_API_KEY = os.getenv(\"OPENAI_API_KEY\")\n",
    "PINECONE_API_KEY = os.getenv(\"PINECONE_API_KEY\")\n",
    "\n",
    "# Initialize embeddings and Pinecone store\n",
    "embeddings = OpenAIEmbeddings(api_key=OPENAI_API_KEY)\n",
    "index_name = \"dr-arif-butt\"\n",
    "\n",
    "# Create a Pinecone vector store from the existing index\n",
    "pinecone_store = PineconeVectorStore(index_name=index_name, embedding=embeddings)\n",
    "\n",
    "# Set up the ChatPromptTemplate\n",
    "template = \"\"\"\n",
    "Answer the question based on the context below. If you can't \n",
    "answer the question, reply \"I don't know\".\n",
    "\n",
    "Context: {context}\n",
    "\n",
    "Question: {question}\n",
    "\"\"\"\n",
    "prompt = ChatPromptTemplate.from_template(template)\n",
    "\n",
    "# Set up the model\n",
    "model = ChatOpenAI(openai_api_key=OPENAI_API_KEY, model=\"gpt-3.5-turbo\")\n",
    "\n",
    "# Create a retriever using the Pinecone index\n",
    "retriever = pinecone_store.as_retriever()\n",
    "\n",
    "# Define the output parser\n",
    "parser = StrOutputParser()\n",
    "\n",
    "# Create a chain for querying\n",
    "chain = (\n",
    "    {\"context\": retriever, \"question\": RunnablePassthrough()}\n",
    "    | prompt\n",
    "    | model\n",
    "    | parser\n",
    ")\n",
    "\n",
    "# Example query\n",
    "query = \"What is the color of the car of Dr. Arif Butt?\"\n",
    "\n",
    "# Define a function to include the documents in the result\n",
    "def query_with_documents(query):\n",
    "    # Retrieve documents from Pinecone using get_relevant_documents\n",
    "    documents = retriever.get_relevant_documents(query)\n",
    "    \n",
    "    # Execute the chain to get the model's answer\n",
    "    answer = chain.invoke(query)\n",
    "    \n",
    "    return answer, documents\n",
    "\n",
    "# Execute the query\n",
    "result, retrieved_documents = query_with_documents(query)\n",
    "\n",
    "# Display the results\n",
    "print(\"Query Result:\", result)\n",
    "print(\"\\nRetrieved Documents:\")\n",
    "for doc in retrieved_documents:\n",
    "    print(doc)"
   ]
  },
  {
   "cell_type": "code",
   "execution_count": 5,
   "metadata": {},
   "outputs": [
    {
     "name": "stdout",
     "output_type": "stream",
     "text": [
      "He teaches in the Department of Information Technology at Punjab University College of Information.\n",
      "page_content='1. In-Charge/Principal, PUCIT - 2. Departmental Doctoral Program Committee Member 3.' metadata={'source': 'dr_arif_butt_resume.pdf'}\n",
      "page_content='parameters.\n",
      "His teaching interests are embedded/real time operating systems, system programming,' metadata={'source': 'dr_arif_butt_1.pdf'}\n",
      "page_content='Campus Chairman 17. Dress Code Committee Chairman 6 Courses Taught Graduate level' metadata={'source': 'dr_arif_butt_resume.pdf'}\n",
      "page_content='best teachers throughout the teaching carrier at Punjab University College of Information' metadata={'source': 'dr_arif_butt_resume.pdf'}\n"
     ]
    }
   ],
   "source": [
    "result, retrieved_documents = query_with_documents('which specific department does he teach in?')\n",
    "print(result)\n",
    "for document in retrieved_documents:\n",
    "    print(document)"
   ]
  },
  {
   "cell_type": "code",
   "execution_count": null,
   "metadata": {},
   "outputs": [],
   "source": []
  }
 ],
 "metadata": {
  "kernelspec": {
   "display_name": ".venv",
   "language": "python",
   "name": "python3"
  },
  "language_info": {
   "codemirror_mode": {
    "name": "ipython",
    "version": 3
   },
   "file_extension": ".py",
   "mimetype": "text/x-python",
   "name": "python",
   "nbconvert_exporter": "python",
   "pygments_lexer": "ipython3",
   "version": "3.12.3"
  }
 },
 "nbformat": 4,
 "nbformat_minor": 2
}
